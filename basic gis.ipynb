{
 "metadata": {
  "name": ""
 },
 "nbformat": 3,
 "nbformat_minor": 0,
 "worksheets": [
  {
   "cells": [
    {
     "cell_type": "markdown",
     "metadata": {},
     "source": [
      "# Checking if a latitude/longitude is in an arbitrary projection"
     ]
    },
    {
     "cell_type": "markdown",
     "metadata": {},
     "source": [
      "## Setup - Installing Python packages and various libraries\n",
      "I assume you have ipython notebook installed."
     ]
    },
    {
     "cell_type": "markdown",
     "metadata": {},
     "source": [
      "### Install GDAL\n",
      "\n",
      "1. Download & install the __GDAL Framework__ from [here](http://www.kyngchaos.com/software/frameworks)\n",
      "\n",
      "    It'll install to `/Library/frameworks/GDAL.framework/`.\n",
      "       \n",
      "2. Add `/Library/frameworks/GDAL.framework/Programs` to your PATH environment variable. \n",
      "\n",
      "    This is important, because other packages will use the gdal-config program to determine where to find the GDAL libraries.\n",
      "\n",
      "3. run `pip install fiona shapely pyproj` to install [Fiona](http://toblerity.org/fiona/manual.html), [Shapely](http://toblerity.org/shapely/manual.html) and [PyProj](https://code.google.com/p/pyproj/).\n",
      "\n",
      "4. Continue with this notebook!"
     ]
    },
    {
     "cell_type": "markdown",
     "metadata": {},
     "source": [
      "## Setup - data files and imports"
     ]
    },
    {
     "cell_type": "code",
     "collapsed": false,
     "input": [
      "import os, fiona, pyproj, shapely\n",
      "import fiona.crs\n",
      "\n",
      "# put the relative path to the directory that contains the data here\n",
      "data_dir = \"../data/massvehicledata/\"\n",
      "shapefile = os.path.join(data_dir, 'grid_250m_shell.shp')"
     ],
     "language": "python",
     "metadata": {},
     "outputs": [],
     "prompt_number": 20
    },
    {
     "cell_type": "markdown",
     "metadata": {},
     "source": [
      "### Grab the PROJ4 string for our shapefile"
     ]
    },
    {
     "cell_type": "code",
     "collapsed": false,
     "input": [
      "grid_proj_string = None\n",
      "with fiona.open(shapefile) as source:\n",
      "    crs = source.crs\n",
      "    grid_proj_string = fiona.crs.to_string(crs)"
     ],
     "language": "python",
     "metadata": {},
     "outputs": [],
     "prompt_number": 14
    },
    {
     "cell_type": "code",
     "collapsed": false,
     "input": [
      "grid_proj_string"
     ],
     "language": "python",
     "metadata": {},
     "outputs": [
      {
       "metadata": {},
       "output_type": "pyout",
       "prompt_number": 15,
       "text": [
        "'+datum=NAD83 +lat_0=41 +lat_1=41.7166666667 +lat_2=42.6833333333 +lon_0=-71.5 +no_defs +proj=lcc +units=m +x_0=200000 +y_0=750000'"
       ]
      }
     ],
     "prompt_number": 15
    },
    {
     "cell_type": "markdown",
     "metadata": {},
     "source": [
      "### Create a pyproj object from `grid_proj_string`, and project a latitude and longitude."
     ]
    },
    {
     "cell_type": "code",
     "collapsed": false,
     "input": [
      "grid_proj = pyproj.Proj(grid_proj_string)"
     ],
     "language": "python",
     "metadata": {},
     "outputs": [],
     "prompt_number": 16
    },
    {
     "cell_type": "code",
     "collapsed": false,
     "input": [
      "grid_proj(42.3428482,-71.0938683)"
     ],
     "language": "python",
     "metadata": {},
     "outputs": [
      {
       "metadata": {},
       "output_type": "pyout",
       "prompt_number": 17,
       "text": [
        "(39363979.08924379, -1495340.013935822)"
       ]
      }
     ],
     "prompt_number": 17
    },
    {
     "cell_type": "markdown",
     "metadata": {},
     "source": [
      "### Getting bounding lat/lon for the first grid cell in the shapefile"
     ]
    },
    {
     "cell_type": "code",
     "collapsed": false,
     "input": [
      "with fiona.open(shapefile) as source:\n",
      "    \n",
      "    # get the first shape\n",
      "    shapefile_record = source.next()\n",
      "    shape = shapely.geometry.asShape(shapefile_record['geometry'])\n",
      "    minx, miny, maxx, maxy = shape.bounds\n",
      "    \n",
      "    maxx_ll, maxy_ll = grid_proj(maxx, maxy, inverse=True)\n",
      "    minx_ll, miny_ll = grid_proj(minx, miny, inverse=True)\n",
      "    \n",
      "    first_bounding_box_ll = shapely.geometry.box(minx_ll, miny_ll, maxx_ll, maxy_ll)"
     ],
     "language": "python",
     "metadata": {},
     "outputs": [],
     "prompt_number": 29
    },
    {
     "cell_type": "markdown",
     "metadata": {},
     "source": [
      "Bounding box of the first grid cell, in lat/lon:"
     ]
    },
    {
     "cell_type": "code",
     "collapsed": false,
     "input": [
      "first_bounding_box_ll.bounds"
     ],
     "language": "python",
     "metadata": {},
     "outputs": [
      {
       "metadata": {},
       "output_type": "pyout",
       "prompt_number": 32,
       "text": [
        "(-70.79455544033586, 42.75570216940319, -70.79147634111301, 42.75793388033074)"
       ]
      }
     ],
     "prompt_number": 32
    }
   ],
   "metadata": {}
  }
 ]
}